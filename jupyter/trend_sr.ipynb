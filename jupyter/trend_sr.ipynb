{
 "cells": [
  {
   "cell_type": "code",
   "execution_count": 1,
   "metadata": {},
   "outputs": [],
   "source": [
    "import pandas as pd\n",
    "import numpy as np\n",
    "import yfinance as yf # requires yfinance - pip install yfinance"
   ]
  },
  {
   "cell_type": "code",
   "execution_count": 2,
   "metadata": {},
   "outputs": [],
   "source": [
    "tick = yf.Ticker('SPY') # S&P500\n",
    "data = tick.history(start=\"2019-01-01\", end=\"2019-11-19\", rounding=True)"
   ]
  },
  {
   "cell_type": "code",
   "execution_count": 3,
   "metadata": {},
   "outputs": [
    {
     "data": {
      "text/html": [
       "<div>\n",
       "<style scoped>\n",
       "    .dataframe tbody tr th:only-of-type {\n",
       "        vertical-align: middle;\n",
       "    }\n",
       "\n",
       "    .dataframe tbody tr th {\n",
       "        vertical-align: top;\n",
       "    }\n",
       "\n",
       "    .dataframe thead th {\n",
       "        text-align: right;\n",
       "    }\n",
       "</style>\n",
       "<table border=\"1\" class=\"dataframe\">\n",
       "  <thead>\n",
       "    <tr style=\"text-align: right;\">\n",
       "      <th></th>\n",
       "      <th>Open</th>\n",
       "      <th>High</th>\n",
       "      <th>Low</th>\n",
       "      <th>Close</th>\n",
       "      <th>Volume</th>\n",
       "      <th>Dividends</th>\n",
       "      <th>Stock Splits</th>\n",
       "    </tr>\n",
       "    <tr>\n",
       "      <th>Date</th>\n",
       "      <th></th>\n",
       "      <th></th>\n",
       "      <th></th>\n",
       "      <th></th>\n",
       "      <th></th>\n",
       "      <th></th>\n",
       "      <th></th>\n",
       "    </tr>\n",
       "  </thead>\n",
       "  <tbody>\n",
       "    <tr>\n",
       "      <td>2018-12-31</td>\n",
       "      <td>246.13</td>\n",
       "      <td>246.75</td>\n",
       "      <td>244.07</td>\n",
       "      <td>246.48</td>\n",
       "      <td>144299400</td>\n",
       "      <td>0.0</td>\n",
       "      <td>0</td>\n",
       "    </tr>\n",
       "    <tr>\n",
       "      <td>2019-01-02</td>\n",
       "      <td>242.60</td>\n",
       "      <td>247.75</td>\n",
       "      <td>242.57</td>\n",
       "      <td>246.74</td>\n",
       "      <td>126925200</td>\n",
       "      <td>0.0</td>\n",
       "      <td>0</td>\n",
       "    </tr>\n",
       "    <tr>\n",
       "      <td>2019-01-03</td>\n",
       "      <td>244.81</td>\n",
       "      <td>245.15</td>\n",
       "      <td>240.32</td>\n",
       "      <td>240.85</td>\n",
       "      <td>144140700</td>\n",
       "      <td>0.0</td>\n",
       "      <td>0</td>\n",
       "    </tr>\n",
       "    <tr>\n",
       "      <td>2019-01-04</td>\n",
       "      <td>244.18</td>\n",
       "      <td>249.63</td>\n",
       "      <td>243.77</td>\n",
       "      <td>248.92</td>\n",
       "      <td>142628800</td>\n",
       "      <td>0.0</td>\n",
       "      <td>0</td>\n",
       "    </tr>\n",
       "    <tr>\n",
       "      <td>2019-01-07</td>\n",
       "      <td>249.21</td>\n",
       "      <td>252.43</td>\n",
       "      <td>248.23</td>\n",
       "      <td>250.88</td>\n",
       "      <td>103139100</td>\n",
       "      <td>0.0</td>\n",
       "      <td>0</td>\n",
       "    </tr>\n",
       "  </tbody>\n",
       "</table>\n",
       "</div>"
      ],
      "text/plain": [
       "              Open    High     Low   Close     Volume  Dividends  Stock Splits\n",
       "Date                                                                          \n",
       "2018-12-31  246.13  246.75  244.07  246.48  144299400        0.0             0\n",
       "2019-01-02  242.60  247.75  242.57  246.74  126925200        0.0             0\n",
       "2019-01-03  244.81  245.15  240.32  240.85  144140700        0.0             0\n",
       "2019-01-04  244.18  249.63  243.77  248.92  142628800        0.0             0\n",
       "2019-01-07  249.21  252.43  248.23  250.88  103139100        0.0             0"
      ]
     },
     "execution_count": 3,
     "metadata": {},
     "output_type": "execute_result"
    }
   ],
   "source": [
    "data.head()"
   ]
  },
  {
   "cell_type": "code",
   "execution_count": 4,
   "metadata": {},
   "outputs": [],
   "source": [
    "h=data[-224:].Close\n",
    "window=125\n",
    "errpct = 0.005\n",
    "hough_scale=0.01\n",
    "hough_prob_iter=10 \n",
    "sortError=False"
   ]
  },
  {
   "cell_type": "code",
   "execution_count": 5,
   "metadata": {},
   "outputs": [],
   "source": [
    "min_h, max_h, len_h = min(h), max(h), len(h)\n",
    "scale = (max_h - min_h) / len_h\n",
    "fltpct = scale * errpct"
   ]
  },
  {
   "cell_type": "code",
   "execution_count": 13,
   "metadata": {},
   "outputs": [],
   "source": [
    "minimaIdxs = np.flatnonzero(h.rolling(window=3, min_periods=1, center=True).aggregate(lambda x: len(x) == 3 and x[0] > x[1] and x[2] > x[1])).tolist()\n",
    "maximaIdxs = np.flatnonzero(h.rolling(window=3, min_periods=1, center=True).aggregate(lambda x: len(x) == 3 and x[0] < x[1] and x[2] < x[1])).tolist()\n"
   ]
  },
  {
   "cell_type": "code",
   "execution_count": 7,
   "metadata": {},
   "outputs": [],
   "source": [
    "hs = h.loc[h.shift(-1) != h]\n",
    "x = hs.rolling(window=3, center=True).aggregate(lambda x: x[0] > x[1] and x[2] > x[1])\n",
    "minimaIdxs2 = [h.index.get_loc(y) for y in x[x == 1].index]\n",
    "x = hs.rolling(window=3, center=True).aggregate(lambda x: x[0] < x[1] and x[2] < x[1])\n",
    "maximaIdxs2 = [h.index.get_loc(y) for y in x[x == 1].index]\n"
   ]
  },
  {
   "cell_type": "code",
   "execution_count": 15,
   "metadata": {},
   "outputs": [
    {
     "data": {
      "text/plain": [
       "True"
      ]
     },
     "execution_count": 15,
     "metadata": {},
     "output_type": "execute_result"
    }
   ],
   "source": [
    "minimaIdxs==minimaIdxs2"
   ]
  },
  {
   "cell_type": "code",
   "execution_count": 16,
   "metadata": {},
   "outputs": [
    {
     "data": {
      "text/plain": [
       "True"
      ]
     },
     "execution_count": 16,
     "metadata": {},
     "output_type": "execute_result"
    }
   ],
   "source": [
    "maximaIdxs==maximaIdxs2"
   ]
  },
  {
   "cell_type": "code",
   "execution_count": 14,
   "metadata": {},
   "outputs": [],
   "source": [
    "from findiff import FinDiff\n",
    "\n",
    "dx = 1 #1 day interval\n",
    "d_dx = FinDiff(0, dx, 1)\n",
    "d2_dx2 = FinDiff(0, dx, 2)\n",
    "clarr = np.asarray(h)\n",
    "mom = d_dx(clarr)\n",
    "momacc = d2_dx2(clarr)\n",
    "        \n",
    "def get_extrema(isMin): #numerical derivative will yield prominent extrema points only\n",
    "    return [x for x in range(len(mom))\n",
    "            if (momacc[x] > 0 if isMin else momacc[x] < 0) and\n",
    "              (mom[x] == 0 or #either slope is 0, or it crosses from positive to negative with the closer to 0 of the two chosen or prior if a tie\n",
    "              (x != len(mom) - 1 and (mom[x] > 0 and mom[x+1] < 0 and h[x] >= h[x+1] or #mom[x] >= -mom[x+1]\n",
    "                  mom[x] < 0 and mom[x+1] > 0 and h[x] <= h[x+1]) or #-mom[x] >= mom[x+1]) or\n",
    "                  x != 0 and (mom[x-1] > 0 and mom[x] < 0 and h[x-1] < h[x] or #mom[x-1] < -mom[x] or\n",
    "                  mom[x-1] < 0 and mom[x] > 0 and h[x-1] > h[x])))] #-mom[x-1] < mom[x])))]\n",
    "\n",
    "minimaIdxs3, maximaIdxs3 = get_extrema(True), get_extrema(False)"
   ]
  },
  {
   "cell_type": "code",
   "execution_count": 17,
   "metadata": {},
   "outputs": [
    {
     "data": {
      "text/plain": [
       "False"
      ]
     },
     "execution_count": 17,
     "metadata": {},
     "output_type": "execute_result"
    }
   ],
   "source": [
    "minimaIdxs==minimaIdxs3"
   ]
  },
  {
   "cell_type": "code",
   "execution_count": 18,
   "metadata": {},
   "outputs": [
    {
     "data": {
      "text/plain": [
       "False"
      ]
     },
     "execution_count": 18,
     "metadata": {},
     "output_type": "execute_result"
    }
   ],
   "source": [
    "maximaIdxs==maximaIdxs3"
   ]
  },
  {
   "cell_type": "code",
   "execution_count": null,
   "metadata": {},
   "outputs": [],
   "source": []
  }
 ],
 "metadata": {
  "kernelspec": {
   "display_name": "Python 3",
   "language": "python",
   "name": "python3"
  },
  "language_info": {
   "codemirror_mode": {
    "name": "ipython",
    "version": 3
   },
   "file_extension": ".py",
   "mimetype": "text/x-python",
   "name": "python",
   "nbconvert_exporter": "python",
   "pygments_lexer": "ipython3",
   "version": "3.7.4"
  }
 },
 "nbformat": 4,
 "nbformat_minor": 2
}
